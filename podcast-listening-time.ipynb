{
 "cells": [
  {
   "cell_type": "code",
   "execution_count": 1,
   "id": "581e4598",
   "metadata": {
    "_cell_guid": "b1076dfc-b9ad-4769-8c92-a6c4dae69d19",
    "_uuid": "8f2839f25d086af736a60e9eeb907d3b93b6e0e5",
    "execution": {
     "iopub.execute_input": "2025-04-06T14:39:38.265633Z",
     "iopub.status.busy": "2025-04-06T14:39:38.265328Z",
     "iopub.status.idle": "2025-04-06T14:39:39.584229Z",
     "shell.execute_reply": "2025-04-06T14:39:39.583452Z"
    },
    "papermill": {
     "duration": 1.328389,
     "end_time": "2025-04-06T14:39:39.585549",
     "exception": false,
     "start_time": "2025-04-06T14:39:38.257160",
     "status": "completed"
    },
    "tags": []
   },
   "outputs": [
    {
     "name": "stdout",
     "output_type": "stream",
     "text": [
      "/kaggle/input/playground-series-s5e4/sample_submission.csv\n",
      "/kaggle/input/playground-series-s5e4/train.csv\n",
      "/kaggle/input/playground-series-s5e4/test.csv\n"
     ]
    }
   ],
   "source": [
    "# This Python 3 environment comes with many helpful analytics libraries installed\n",
    "# It is defined by the kaggle/python Docker image: https://github.com/kaggle/docker-python\n",
    "# For example, here's several helpful packages to load\n",
    "\n",
    "import numpy as np # linear algebra\n",
    "import pandas as pd # data processing, CSV file I/O (e.g. pd.read_csv)\n",
    "\n",
    "# Input data files are available in the read-only \"../input/\" directory\n",
    "# For example, running this (by clicking run or pressing Shift+Enter) will list all files under the input directory\n",
    "\n",
    "import os\n",
    "for dirname, _, filenames in os.walk('/kaggle/input'):\n",
    "    for filename in filenames:\n",
    "        print(os.path.join(dirname, filename))\n",
    "\n",
    "# You can write up to 20GB to the current directory (/kaggle/working/) that gets preserved as output when you create a version using \"Save & Run All\" \n",
    "# You can also write temporary files to /kaggle/temp/, but they won't be saved outside of the current session"
   ]
  },
  {
   "cell_type": "markdown",
   "id": "3129daa0",
   "metadata": {
    "papermill": {
     "duration": 0.006497,
     "end_time": "2025-04-06T14:39:39.599310",
     "exception": false,
     "start_time": "2025-04-06T14:39:39.592813",
     "status": "completed"
    },
    "tags": []
   },
   "source": [
    "# Data Overview"
   ]
  },
  {
   "cell_type": "code",
   "execution_count": 2,
   "id": "bf2d0cfc",
   "metadata": {
    "execution": {
     "iopub.execute_input": "2025-04-06T14:39:39.613440Z",
     "iopub.status.busy": "2025-04-06T14:39:39.613109Z",
     "iopub.status.idle": "2025-04-06T14:39:41.855928Z",
     "shell.execute_reply": "2025-04-06T14:39:41.855155Z"
    },
    "papermill": {
     "duration": 2.251852,
     "end_time": "2025-04-06T14:39:41.857751",
     "exception": false,
     "start_time": "2025-04-06T14:39:39.605899",
     "status": "completed"
    },
    "tags": []
   },
   "outputs": [],
   "source": [
    "import matplotlib.pyplot as plt\n",
    "import seaborn as sns"
   ]
  },
  {
   "cell_type": "code",
   "execution_count": 3,
   "id": "a4ceb8e2",
   "metadata": {
    "execution": {
     "iopub.execute_input": "2025-04-06T14:39:41.875741Z",
     "iopub.status.busy": "2025-04-06T14:39:41.875370Z",
     "iopub.status.idle": "2025-04-06T14:39:41.878751Z",
     "shell.execute_reply": "2025-04-06T14:39:41.878081Z"
    },
    "papermill": {
     "duration": 0.014155,
     "end_time": "2025-04-06T14:39:41.880275",
     "exception": false,
     "start_time": "2025-04-06T14:39:41.866120",
     "status": "completed"
    },
    "tags": []
   },
   "outputs": [],
   "source": [
    "import warnings\n",
    "warnings.filterwarnings('ignore')"
   ]
  },
  {
   "cell_type": "code",
   "execution_count": 4,
   "id": "ecb86758",
   "metadata": {
    "execution": {
     "iopub.execute_input": "2025-04-06T14:39:41.896825Z",
     "iopub.status.busy": "2025-04-06T14:39:41.896591Z",
     "iopub.status.idle": "2025-04-06T14:39:43.901839Z",
     "shell.execute_reply": "2025-04-06T14:39:43.901169Z"
    },
    "papermill": {
     "duration": 2.015235,
     "end_time": "2025-04-06T14:39:43.903422",
     "exception": false,
     "start_time": "2025-04-06T14:39:41.888187",
     "status": "completed"
    },
    "tags": []
   },
   "outputs": [],
   "source": [
    "train = pd.read_csv('/kaggle/input/playground-series-s5e4/train.csv')"
   ]
  },
  {
   "cell_type": "code",
   "execution_count": 5,
   "id": "a8220573",
   "metadata": {
    "execution": {
     "iopub.execute_input": "2025-04-06T14:39:43.918529Z",
     "iopub.status.busy": "2025-04-06T14:39:43.918296Z",
     "iopub.status.idle": "2025-04-06T14:39:43.945710Z",
     "shell.execute_reply": "2025-04-06T14:39:43.944887Z"
    },
    "papermill": {
     "duration": 0.036434,
     "end_time": "2025-04-06T14:39:43.947026",
     "exception": false,
     "start_time": "2025-04-06T14:39:43.910592",
     "status": "completed"
    },
    "tags": []
   },
   "outputs": [
    {
     "data": {
      "text/html": [
       "<div>\n",
       "<style scoped>\n",
       "    .dataframe tbody tr th:only-of-type {\n",
       "        vertical-align: middle;\n",
       "    }\n",
       "\n",
       "    .dataframe tbody tr th {\n",
       "        vertical-align: top;\n",
       "    }\n",
       "\n",
       "    .dataframe thead th {\n",
       "        text-align: right;\n",
       "    }\n",
       "</style>\n",
       "<table border=\"1\" class=\"dataframe\">\n",
       "  <thead>\n",
       "    <tr style=\"text-align: right;\">\n",
       "      <th></th>\n",
       "      <th>id</th>\n",
       "      <th>Podcast_Name</th>\n",
       "      <th>Episode_Title</th>\n",
       "      <th>Episode_Length_minutes</th>\n",
       "      <th>Genre</th>\n",
       "      <th>Host_Popularity_percentage</th>\n",
       "      <th>Publication_Day</th>\n",
       "      <th>Publication_Time</th>\n",
       "      <th>Guest_Popularity_percentage</th>\n",
       "      <th>Number_of_Ads</th>\n",
       "      <th>Episode_Sentiment</th>\n",
       "      <th>Listening_Time_minutes</th>\n",
       "    </tr>\n",
       "  </thead>\n",
       "  <tbody>\n",
       "    <tr>\n",
       "      <th>0</th>\n",
       "      <td>0</td>\n",
       "      <td>Mystery Matters</td>\n",
       "      <td>Episode 98</td>\n",
       "      <td>NaN</td>\n",
       "      <td>True Crime</td>\n",
       "      <td>74.81</td>\n",
       "      <td>Thursday</td>\n",
       "      <td>Night</td>\n",
       "      <td>NaN</td>\n",
       "      <td>0.0</td>\n",
       "      <td>Positive</td>\n",
       "      <td>31.41998</td>\n",
       "    </tr>\n",
       "  </tbody>\n",
       "</table>\n",
       "</div>"
      ],
      "text/plain": [
       "   id     Podcast_Name Episode_Title  Episode_Length_minutes       Genre  \\\n",
       "0   0  Mystery Matters    Episode 98                     NaN  True Crime   \n",
       "\n",
       "   Host_Popularity_percentage Publication_Day Publication_Time  \\\n",
       "0                       74.81        Thursday            Night   \n",
       "\n",
       "   Guest_Popularity_percentage  Number_of_Ads Episode_Sentiment  \\\n",
       "0                          NaN            0.0          Positive   \n",
       "\n",
       "   Listening_Time_minutes  \n",
       "0                31.41998  "
      ]
     },
     "execution_count": 5,
     "metadata": {},
     "output_type": "execute_result"
    }
   ],
   "source": [
    "train.head(1)"
   ]
  },
  {
   "cell_type": "code",
   "execution_count": 6,
   "id": "ce3e100f",
   "metadata": {
    "execution": {
     "iopub.execute_input": "2025-04-06T14:39:43.962081Z",
     "iopub.status.busy": "2025-04-06T14:39:43.961842Z",
     "iopub.status.idle": "2025-04-06T14:39:44.571736Z",
     "shell.execute_reply": "2025-04-06T14:39:44.571034Z"
    },
    "papermill": {
     "duration": 0.618987,
     "end_time": "2025-04-06T14:39:44.573237",
     "exception": false,
     "start_time": "2025-04-06T14:39:43.954250",
     "status": "completed"
    },
    "tags": []
   },
   "outputs": [],
   "source": [
    "test = pd.read_csv('/kaggle/input/playground-series-s5e4/test.csv')"
   ]
  },
  {
   "cell_type": "code",
   "execution_count": 7,
   "id": "08a37a35",
   "metadata": {
    "execution": {
     "iopub.execute_input": "2025-04-06T14:39:44.588450Z",
     "iopub.status.busy": "2025-04-06T14:39:44.588224Z",
     "iopub.status.idle": "2025-04-06T14:39:44.599000Z",
     "shell.execute_reply": "2025-04-06T14:39:44.598278Z"
    },
    "papermill": {
     "duration": 0.019669,
     "end_time": "2025-04-06T14:39:44.600390",
     "exception": false,
     "start_time": "2025-04-06T14:39:44.580721",
     "status": "completed"
    },
    "tags": []
   },
   "outputs": [
    {
     "data": {
      "text/html": [
       "<div>\n",
       "<style scoped>\n",
       "    .dataframe tbody tr th:only-of-type {\n",
       "        vertical-align: middle;\n",
       "    }\n",
       "\n",
       "    .dataframe tbody tr th {\n",
       "        vertical-align: top;\n",
       "    }\n",
       "\n",
       "    .dataframe thead th {\n",
       "        text-align: right;\n",
       "    }\n",
       "</style>\n",
       "<table border=\"1\" class=\"dataframe\">\n",
       "  <thead>\n",
       "    <tr style=\"text-align: right;\">\n",
       "      <th></th>\n",
       "      <th>id</th>\n",
       "      <th>Podcast_Name</th>\n",
       "      <th>Episode_Title</th>\n",
       "      <th>Episode_Length_minutes</th>\n",
       "      <th>Genre</th>\n",
       "      <th>Host_Popularity_percentage</th>\n",
       "      <th>Publication_Day</th>\n",
       "      <th>Publication_Time</th>\n",
       "      <th>Guest_Popularity_percentage</th>\n",
       "      <th>Number_of_Ads</th>\n",
       "      <th>Episode_Sentiment</th>\n",
       "    </tr>\n",
       "  </thead>\n",
       "  <tbody>\n",
       "    <tr>\n",
       "      <th>0</th>\n",
       "      <td>750000</td>\n",
       "      <td>Educational Nuggets</td>\n",
       "      <td>Episode 73</td>\n",
       "      <td>78.96</td>\n",
       "      <td>Education</td>\n",
       "      <td>38.11</td>\n",
       "      <td>Saturday</td>\n",
       "      <td>Evening</td>\n",
       "      <td>53.33</td>\n",
       "      <td>1.0</td>\n",
       "      <td>Neutral</td>\n",
       "    </tr>\n",
       "  </tbody>\n",
       "</table>\n",
       "</div>"
      ],
      "text/plain": [
       "       id         Podcast_Name Episode_Title  Episode_Length_minutes  \\\n",
       "0  750000  Educational Nuggets    Episode 73                   78.96   \n",
       "\n",
       "       Genre  Host_Popularity_percentage Publication_Day Publication_Time  \\\n",
       "0  Education                       38.11        Saturday          Evening   \n",
       "\n",
       "   Guest_Popularity_percentage  Number_of_Ads Episode_Sentiment  \n",
       "0                        53.33            1.0           Neutral  "
      ]
     },
     "execution_count": 7,
     "metadata": {},
     "output_type": "execute_result"
    }
   ],
   "source": [
    "test.head(1)"
   ]
  },
  {
   "cell_type": "code",
   "execution_count": 8,
   "id": "00573fd2",
   "metadata": {
    "execution": {
     "iopub.execute_input": "2025-04-06T14:39:44.615296Z",
     "iopub.status.busy": "2025-04-06T14:39:44.615063Z",
     "iopub.status.idle": "2025-04-06T14:39:44.846493Z",
     "shell.execute_reply": "2025-04-06T14:39:44.845622Z"
    },
    "papermill": {
     "duration": 0.239999,
     "end_time": "2025-04-06T14:39:44.847710",
     "exception": false,
     "start_time": "2025-04-06T14:39:44.607711",
     "status": "completed"
    },
    "tags": []
   },
   "outputs": [
    {
     "name": "stdout",
     "output_type": "stream",
     "text": [
      "<class 'pandas.core.frame.DataFrame'>\n",
      "RangeIndex: 750000 entries, 0 to 749999\n",
      "Data columns (total 12 columns):\n",
      " #   Column                       Non-Null Count   Dtype  \n",
      "---  ------                       --------------   -----  \n",
      " 0   id                           750000 non-null  int64  \n",
      " 1   Podcast_Name                 750000 non-null  object \n",
      " 2   Episode_Title                750000 non-null  object \n",
      " 3   Episode_Length_minutes       662907 non-null  float64\n",
      " 4   Genre                        750000 non-null  object \n",
      " 5   Host_Popularity_percentage   750000 non-null  float64\n",
      " 6   Publication_Day              750000 non-null  object \n",
      " 7   Publication_Time             750000 non-null  object \n",
      " 8   Guest_Popularity_percentage  603970 non-null  float64\n",
      " 9   Number_of_Ads                749999 non-null  float64\n",
      " 10  Episode_Sentiment            750000 non-null  object \n",
      " 11  Listening_Time_minutes       750000 non-null  float64\n",
      "dtypes: float64(5), int64(1), object(6)\n",
      "memory usage: 68.7+ MB\n"
     ]
    }
   ],
   "source": [
    "train.info()"
   ]
  },
  {
   "cell_type": "code",
   "execution_count": 9,
   "id": "430134ac",
   "metadata": {
    "execution": {
     "iopub.execute_input": "2025-04-06T14:39:44.862787Z",
     "iopub.status.busy": "2025-04-06T14:39:44.862579Z",
     "iopub.status.idle": "2025-04-06T14:39:45.058404Z",
     "shell.execute_reply": "2025-04-06T14:39:45.057742Z"
    },
    "papermill": {
     "duration": 0.204469,
     "end_time": "2025-04-06T14:39:45.059554",
     "exception": false,
     "start_time": "2025-04-06T14:39:44.855085",
     "status": "completed"
    },
    "tags": []
   },
   "outputs": [
    {
     "data": {
      "text/plain": [
       "id                                  0\n",
       "Podcast_Name                        0\n",
       "Episode_Title                       0\n",
       "Episode_Length_minutes          87093\n",
       "Genre                               0\n",
       "Host_Popularity_percentage          0\n",
       "Publication_Day                     0\n",
       "Publication_Time                    0\n",
       "Guest_Popularity_percentage    146030\n",
       "Number_of_Ads                       1\n",
       "Episode_Sentiment                   0\n",
       "Listening_Time_minutes              0\n",
       "dtype: int64"
      ]
     },
     "execution_count": 9,
     "metadata": {},
     "output_type": "execute_result"
    }
   ],
   "source": [
    "train.isnull().sum()"
   ]
  },
  {
   "cell_type": "code",
   "execution_count": 10,
   "id": "7798825d",
   "metadata": {
    "execution": {
     "iopub.execute_input": "2025-04-06T14:39:45.074633Z",
     "iopub.status.busy": "2025-04-06T14:39:45.074426Z",
     "iopub.status.idle": "2025-04-06T14:39:45.086629Z",
     "shell.execute_reply": "2025-04-06T14:39:45.086014Z"
    },
    "papermill": {
     "duration": 0.020867,
     "end_time": "2025-04-06T14:39:45.087765",
     "exception": false,
     "start_time": "2025-04-06T14:39:45.066898",
     "status": "completed"
    },
    "tags": []
   },
   "outputs": [
    {
     "data": {
      "text/html": [
       "<div>\n",
       "<style scoped>\n",
       "    .dataframe tbody tr th:only-of-type {\n",
       "        vertical-align: middle;\n",
       "    }\n",
       "\n",
       "    .dataframe tbody tr th {\n",
       "        vertical-align: top;\n",
       "    }\n",
       "\n",
       "    .dataframe thead th {\n",
       "        text-align: right;\n",
       "    }\n",
       "</style>\n",
       "<table border=\"1\" class=\"dataframe\">\n",
       "  <thead>\n",
       "    <tr style=\"text-align: right;\">\n",
       "      <th></th>\n",
       "      <th>Podcast_Name</th>\n",
       "      <th>Episode_Title</th>\n",
       "      <th>Episode_Length_minutes</th>\n",
       "      <th>Genre</th>\n",
       "      <th>Host_Popularity_percentage</th>\n",
       "      <th>Publication_Day</th>\n",
       "      <th>Publication_Time</th>\n",
       "      <th>Guest_Popularity_percentage</th>\n",
       "      <th>Number_of_Ads</th>\n",
       "      <th>Episode_Sentiment</th>\n",
       "      <th>Listening_Time_minutes</th>\n",
       "    </tr>\n",
       "    <tr>\n",
       "      <th>id</th>\n",
       "      <th></th>\n",
       "      <th></th>\n",
       "      <th></th>\n",
       "      <th></th>\n",
       "      <th></th>\n",
       "      <th></th>\n",
       "      <th></th>\n",
       "      <th></th>\n",
       "      <th></th>\n",
       "      <th></th>\n",
       "      <th></th>\n",
       "    </tr>\n",
       "  </thead>\n",
       "  <tbody>\n",
       "    <tr>\n",
       "      <th>0</th>\n",
       "      <td>Mystery Matters</td>\n",
       "      <td>Episode 98</td>\n",
       "      <td>NaN</td>\n",
       "      <td>True Crime</td>\n",
       "      <td>74.81</td>\n",
       "      <td>Thursday</td>\n",
       "      <td>Night</td>\n",
       "      <td>NaN</td>\n",
       "      <td>0.0</td>\n",
       "      <td>Positive</td>\n",
       "      <td>31.41998</td>\n",
       "    </tr>\n",
       "  </tbody>\n",
       "</table>\n",
       "</div>"
      ],
      "text/plain": [
       "       Podcast_Name Episode_Title  Episode_Length_minutes       Genre  \\\n",
       "id                                                                      \n",
       "0   Mystery Matters    Episode 98                     NaN  True Crime   \n",
       "\n",
       "    Host_Popularity_percentage Publication_Day Publication_Time  \\\n",
       "id                                                                \n",
       "0                        74.81        Thursday            Night   \n",
       "\n",
       "    Guest_Popularity_percentage  Number_of_Ads Episode_Sentiment  \\\n",
       "id                                                                 \n",
       "0                           NaN            0.0          Positive   \n",
       "\n",
       "    Listening_Time_minutes  \n",
       "id                          \n",
       "0                 31.41998  "
      ]
     },
     "execution_count": 10,
     "metadata": {},
     "output_type": "execute_result"
    }
   ],
   "source": [
    "train.set_index('id', inplace=True)\n",
    "test.set_index('id', inplace=True)\n",
    "\n",
    "train.head(1)"
   ]
  },
  {
   "cell_type": "code",
   "execution_count": 11,
   "id": "1bea1c21",
   "metadata": {
    "execution": {
     "iopub.execute_input": "2025-04-06T14:39:45.102856Z",
     "iopub.status.busy": "2025-04-06T14:39:45.102654Z",
     "iopub.status.idle": "2025-04-06T14:39:46.043381Z",
     "shell.execute_reply": "2025-04-06T14:39:46.042404Z"
    },
    "papermill": {
     "duration": 0.950388,
     "end_time": "2025-04-06T14:39:46.045445",
     "exception": false,
     "start_time": "2025-04-06T14:39:45.095057",
     "status": "completed"
    },
    "tags": []
   },
   "outputs": [],
   "source": [
    "def fill_missing_val (df, column):\n",
    "    df[column] = df.groupby(['Podcast_Name', 'Publication_Day', 'Publication_Time'])[column].transform(lambda x: x.fillna(x.median()))\n",
    "    return \n",
    "\n",
    "fill_missing_val(train, 'Episode_Length_minutes')\n",
    "fill_missing_val(test, 'Episode_Length_minutes')"
   ]
  },
  {
   "cell_type": "code",
   "execution_count": 12,
   "id": "5ae500ae",
   "metadata": {
    "execution": {
     "iopub.execute_input": "2025-04-06T14:39:46.067636Z",
     "iopub.status.busy": "2025-04-06T14:39:46.067363Z",
     "iopub.status.idle": "2025-04-06T14:39:46.091888Z",
     "shell.execute_reply": "2025-04-06T14:39:46.091093Z"
    },
    "papermill": {
     "duration": 0.034497,
     "end_time": "2025-04-06T14:39:46.093399",
     "exception": false,
     "start_time": "2025-04-06T14:39:46.058902",
     "status": "completed"
    },
    "tags": []
   },
   "outputs": [
    {
     "data": {
      "text/plain": [
       "id\n",
       "595915    54.49\n",
       "716028    38.53\n",
       "234089    75.60\n",
       "428519     6.99\n",
       "465303    90.16\n",
       "327468     9.85\n",
       "426208    16.35\n",
       "462187    46.65\n",
       "233795    23.33\n",
       "209699      NaN\n",
       "Name: Guest_Popularity_percentage, dtype: float64"
      ]
     },
     "execution_count": 12,
     "metadata": {},
     "output_type": "execute_result"
    }
   ],
   "source": [
    "train['Guest_Popularity_percentage'].sample(10)"
   ]
  },
  {
   "cell_type": "code",
   "execution_count": 13,
   "id": "9a1f6ada",
   "metadata": {
    "execution": {
     "iopub.execute_input": "2025-04-06T14:39:46.116765Z",
     "iopub.status.busy": "2025-04-06T14:39:46.116511Z",
     "iopub.status.idle": "2025-04-06T14:39:46.128073Z",
     "shell.execute_reply": "2025-04-06T14:39:46.127250Z"
    },
    "papermill": {
     "duration": 0.021781,
     "end_time": "2025-04-06T14:39:46.129551",
     "exception": false,
     "start_time": "2025-04-06T14:39:46.107770",
     "status": "completed"
    },
    "tags": []
   },
   "outputs": [],
   "source": [
    "train['Guest_Popularity_percentage'].fillna(0,inplace = True)\n",
    "test['Guest_Popularity_percentage'].fillna(0,inplace = True)"
   ]
  },
  {
   "cell_type": "code",
   "execution_count": 14,
   "id": "5edede24",
   "metadata": {
    "execution": {
     "iopub.execute_input": "2025-04-06T14:39:46.152830Z",
     "iopub.status.busy": "2025-04-06T14:39:46.152491Z",
     "iopub.status.idle": "2025-04-06T14:39:46.362185Z",
     "shell.execute_reply": "2025-04-06T14:39:46.361358Z"
    },
    "papermill": {
     "duration": 0.219794,
     "end_time": "2025-04-06T14:39:46.363527",
     "exception": false,
     "start_time": "2025-04-06T14:39:46.143733",
     "status": "completed"
    },
    "tags": []
   },
   "outputs": [
    {
     "data": {
      "text/plain": [
       "Podcast_Name                   0\n",
       "Episode_Title                  0\n",
       "Episode_Length_minutes         0\n",
       "Genre                          0\n",
       "Host_Popularity_percentage     0\n",
       "Publication_Day                0\n",
       "Publication_Time               0\n",
       "Guest_Popularity_percentage    0\n",
       "Number_of_Ads                  1\n",
       "Episode_Sentiment              0\n",
       "Listening_Time_minutes         0\n",
       "dtype: int64"
      ]
     },
     "execution_count": 14,
     "metadata": {},
     "output_type": "execute_result"
    }
   ],
   "source": [
    "train.isnull().sum()"
   ]
  },
  {
   "cell_type": "code",
   "execution_count": 15,
   "id": "7f2d8dfd",
   "metadata": {
    "execution": {
     "iopub.execute_input": "2025-04-06T14:39:46.379858Z",
     "iopub.status.busy": "2025-04-06T14:39:46.379646Z",
     "iopub.status.idle": "2025-04-06T14:39:46.387050Z",
     "shell.execute_reply": "2025-04-06T14:39:46.386317Z"
    },
    "papermill": {
     "duration": 0.016771,
     "end_time": "2025-04-06T14:39:46.388418",
     "exception": false,
     "start_time": "2025-04-06T14:39:46.371647",
     "status": "completed"
    },
    "tags": []
   },
   "outputs": [],
   "source": [
    "train['Number_of_Ads'].fillna(0,inplace = True)\n",
    "test['Number_of_Ads'].fillna(0,inplace = True)"
   ]
  },
  {
   "cell_type": "code",
   "execution_count": 16,
   "id": "d669da6d",
   "metadata": {
    "execution": {
     "iopub.execute_input": "2025-04-06T14:39:46.404360Z",
     "iopub.status.busy": "2025-04-06T14:39:46.404149Z",
     "iopub.status.idle": "2025-04-06T14:39:46.915212Z",
     "shell.execute_reply": "2025-04-06T14:39:46.914266Z"
    },
    "papermill": {
     "duration": 0.520828,
     "end_time": "2025-04-06T14:39:46.916631",
     "exception": false,
     "start_time": "2025-04-06T14:39:46.395803",
     "status": "completed"
    },
    "tags": []
   },
   "outputs": [
    {
     "data": {
      "text/plain": [
       "0"
      ]
     },
     "execution_count": 16,
     "metadata": {},
     "output_type": "execute_result"
    }
   ],
   "source": [
    "train.duplicated().sum()\n",
    "test.duplicated().sum()"
   ]
  },
  {
   "cell_type": "code",
   "execution_count": 17,
   "id": "6bd21f9c",
   "metadata": {
    "execution": {
     "iopub.execute_input": "2025-04-06T14:39:46.933574Z",
     "iopub.status.busy": "2025-04-06T14:39:46.933313Z",
     "iopub.status.idle": "2025-04-06T14:39:46.937904Z",
     "shell.execute_reply": "2025-04-06T14:39:46.937140Z"
    },
    "papermill": {
     "duration": 0.013936,
     "end_time": "2025-04-06T14:39:46.939154",
     "exception": false,
     "start_time": "2025-04-06T14:39:46.925218",
     "status": "completed"
    },
    "tags": []
   },
   "outputs": [
    {
     "data": {
      "text/plain": [
       "Index(['Podcast_Name', 'Episode_Title', 'Episode_Length_minutes', 'Genre',\n",
       "       'Host_Popularity_percentage', 'Publication_Day', 'Publication_Time',\n",
       "       'Guest_Popularity_percentage', 'Number_of_Ads', 'Episode_Sentiment',\n",
       "       'Listening_Time_minutes'],\n",
       "      dtype='object')"
      ]
     },
     "execution_count": 17,
     "metadata": {},
     "output_type": "execute_result"
    }
   ],
   "source": [
    "train.columns"
   ]
  },
  {
   "cell_type": "raw",
   "id": "6aaa4216",
   "metadata": {
    "papermill": {
     "duration": 0.007385,
     "end_time": "2025-04-06T14:39:46.954058",
     "exception": false,
     "start_time": "2025-04-06T14:39:46.946673",
     "status": "completed"
    },
    "tags": []
   },
   "source": []
  },
  {
   "cell_type": "code",
   "execution_count": 18,
   "id": "4b0aa307",
   "metadata": {
    "execution": {
     "iopub.execute_input": "2025-04-06T14:39:46.970104Z",
     "iopub.status.busy": "2025-04-06T14:39:46.969856Z",
     "iopub.status.idle": "2025-04-06T14:39:47.145011Z",
     "shell.execute_reply": "2025-04-06T14:39:47.144165Z"
    },
    "papermill": {
     "duration": 0.184869,
     "end_time": "2025-04-06T14:39:47.146391",
     "exception": false,
     "start_time": "2025-04-06T14:39:46.961522",
     "status": "completed"
    },
    "tags": []
   },
   "outputs": [
    {
     "data": {
      "text/html": [
       "<div>\n",
       "<style scoped>\n",
       "    .dataframe tbody tr th:only-of-type {\n",
       "        vertical-align: middle;\n",
       "    }\n",
       "\n",
       "    .dataframe tbody tr th {\n",
       "        vertical-align: top;\n",
       "    }\n",
       "\n",
       "    .dataframe thead th {\n",
       "        text-align: right;\n",
       "    }\n",
       "</style>\n",
       "<table border=\"1\" class=\"dataframe\">\n",
       "  <thead>\n",
       "    <tr style=\"text-align: right;\">\n",
       "      <th></th>\n",
       "      <th>Episode_Length_minutes</th>\n",
       "      <th>Host_Popularity_percentage</th>\n",
       "      <th>Guest_Popularity_percentage</th>\n",
       "      <th>Number_of_Ads</th>\n",
       "      <th>Listening_Time_minutes</th>\n",
       "    </tr>\n",
       "  </thead>\n",
       "  <tbody>\n",
       "    <tr>\n",
       "      <th>count</th>\n",
       "      <td>750000.000000</td>\n",
       "      <td>750000.000000</td>\n",
       "      <td>750000.000000</td>\n",
       "      <td>750000.000000</td>\n",
       "      <td>750000.000000</td>\n",
       "    </tr>\n",
       "    <tr>\n",
       "      <th>mean</th>\n",
       "      <td>64.426564</td>\n",
       "      <td>59.859901</td>\n",
       "      <td>42.065664</td>\n",
       "      <td>1.348853</td>\n",
       "      <td>45.437406</td>\n",
       "    </tr>\n",
       "    <tr>\n",
       "      <th>std</th>\n",
       "      <td>31.029068</td>\n",
       "      <td>22.873098</td>\n",
       "      <td>32.858857</td>\n",
       "      <td>1.151131</td>\n",
       "      <td>27.138306</td>\n",
       "    </tr>\n",
       "    <tr>\n",
       "      <th>min</th>\n",
       "      <td>0.000000</td>\n",
       "      <td>1.300000</td>\n",
       "      <td>0.000000</td>\n",
       "      <td>0.000000</td>\n",
       "      <td>0.000000</td>\n",
       "    </tr>\n",
       "    <tr>\n",
       "      <th>25%</th>\n",
       "      <td>39.420000</td>\n",
       "      <td>39.410000</td>\n",
       "      <td>7.850000</td>\n",
       "      <td>0.000000</td>\n",
       "      <td>23.178350</td>\n",
       "    </tr>\n",
       "    <tr>\n",
       "      <th>50%</th>\n",
       "      <td>63.870000</td>\n",
       "      <td>60.050000</td>\n",
       "      <td>42.200000</td>\n",
       "      <td>1.000000</td>\n",
       "      <td>43.379460</td>\n",
       "    </tr>\n",
       "    <tr>\n",
       "      <th>75%</th>\n",
       "      <td>90.310000</td>\n",
       "      <td>79.530000</td>\n",
       "      <td>71.040000</td>\n",
       "      <td>2.000000</td>\n",
       "      <td>64.811580</td>\n",
       "    </tr>\n",
       "    <tr>\n",
       "      <th>max</th>\n",
       "      <td>325.240000</td>\n",
       "      <td>119.460000</td>\n",
       "      <td>119.910000</td>\n",
       "      <td>103.910000</td>\n",
       "      <td>119.970000</td>\n",
       "    </tr>\n",
       "  </tbody>\n",
       "</table>\n",
       "</div>"
      ],
      "text/plain": [
       "       Episode_Length_minutes  Host_Popularity_percentage  \\\n",
       "count           750000.000000               750000.000000   \n",
       "mean                64.426564                   59.859901   \n",
       "std                 31.029068                   22.873098   \n",
       "min                  0.000000                    1.300000   \n",
       "25%                 39.420000                   39.410000   \n",
       "50%                 63.870000                   60.050000   \n",
       "75%                 90.310000                   79.530000   \n",
       "max                325.240000                  119.460000   \n",
       "\n",
       "       Guest_Popularity_percentage  Number_of_Ads  Listening_Time_minutes  \n",
       "count                750000.000000  750000.000000           750000.000000  \n",
       "mean                     42.065664       1.348853               45.437406  \n",
       "std                      32.858857       1.151131               27.138306  \n",
       "min                       0.000000       0.000000                0.000000  \n",
       "25%                       7.850000       0.000000               23.178350  \n",
       "50%                      42.200000       1.000000               43.379460  \n",
       "75%                      71.040000       2.000000               64.811580  \n",
       "max                     119.910000     103.910000              119.970000  "
      ]
     },
     "execution_count": 18,
     "metadata": {},
     "output_type": "execute_result"
    }
   ],
   "source": [
    "train.describe()"
   ]
  },
  {
   "cell_type": "code",
   "execution_count": 19,
   "id": "6cefd6ab",
   "metadata": {
    "execution": {
     "iopub.execute_input": "2025-04-06T14:39:47.163383Z",
     "iopub.status.busy": "2025-04-06T14:39:47.163165Z",
     "iopub.status.idle": "2025-04-06T14:39:47.179675Z",
     "shell.execute_reply": "2025-04-06T14:39:47.178878Z"
    },
    "papermill": {
     "duration": 0.026262,
     "end_time": "2025-04-06T14:39:47.180908",
     "exception": false,
     "start_time": "2025-04-06T14:39:47.154646",
     "status": "completed"
    },
    "tags": []
   },
   "outputs": [
    {
     "data": {
      "text/plain": [
       "Number_of_Ads\n",
       "0.00      217593\n",
       "1.00      214069\n",
       "3.00      160173\n",
       "2.00      158156\n",
       "103.25         2\n",
       "53.37          1\n",
       "103.00         1\n",
       "103.91         1\n",
       "53.42          1\n",
       "103.75         1\n",
       "12.00          1\n",
       "103.88         1\n",
       "Name: count, dtype: int64"
      ]
     },
     "execution_count": 19,
     "metadata": {},
     "output_type": "execute_result"
    }
   ],
   "source": [
    "train['Number_of_Ads'].value_counts()"
   ]
  },
  {
   "cell_type": "raw",
   "id": "da4282ab",
   "metadata": {
    "papermill": {
     "duration": 0.00753,
     "end_time": "2025-04-06T14:39:47.196173",
     "exception": false,
     "start_time": "2025-04-06T14:39:47.188643",
     "status": "completed"
    },
    "tags": []
   },
   "source": []
  },
  {
   "cell_type": "markdown",
   "id": "3b894274",
   "metadata": {
    "papermill": {
     "duration": 0.007512,
     "end_time": "2025-04-06T14:39:47.211324",
     "exception": false,
     "start_time": "2025-04-06T14:39:47.203812",
     "status": "completed"
    },
    "tags": []
   },
   "source": [
    "# **EDA**"
   ]
  },
  {
   "cell_type": "markdown",
   "id": "5d46d1a5",
   "metadata": {
    "papermill": {
     "duration": 0.007866,
     "end_time": "2025-04-06T14:39:47.226843",
     "exception": false,
     "start_time": "2025-04-06T14:39:47.218977",
     "status": "completed"
    },
    "tags": []
   },
   "source": [
    "# Univariate Analysis "
   ]
  },
  {
   "cell_type": "code",
   "execution_count": 20,
   "id": "08b09fe0",
   "metadata": {
    "execution": {
     "iopub.execute_input": "2025-04-06T14:39:47.243108Z",
     "iopub.status.busy": "2025-04-06T14:39:47.242863Z",
     "iopub.status.idle": "2025-04-06T14:39:47.890436Z",
     "shell.execute_reply": "2025-04-06T14:39:47.889603Z"
    },
    "papermill": {
     "duration": 0.657123,
     "end_time": "2025-04-06T14:39:47.891775",
     "exception": false,
     "start_time": "2025-04-06T14:39:47.234652",
     "status": "completed"
    },
    "tags": []
   },
   "outputs": [
    {
     "name": "stdout",
     "output_type": "stream",
     "text": [
      "Genre\n",
      "Sports        87606\n",
      "Technology    86256\n",
      "True Crime    85059\n",
      "Lifestyle     82461\n",
      "Comedy        81453\n",
      "Business      80521\n",
      "Health        71416\n",
      "News          63385\n",
      "Music         62743\n",
      "Education     49100\n",
      "Name: count, dtype: int64\n"
     ]
    },
    {
     "data": {
      "image/png": "[encoded data removed]",
      "text/plain": [
       "<Figure size 640x480 with 1 Axes>"
      ]
     },
     "metadata": {},
     "output_type": "display_data"
    }
   ],
   "source": [
    "print(train['Genre'].value_counts())\n",
    "sns.countplot(data=train, x='Genre')\n",
    "plt.xticks(rotation=45)\n",
    "plt.show()"
   ]
  },
  {
   "cell_type": "code",
   "execution_count": 21,
   "id": "7ade1448",
   "metadata": {
    "execution": {
     "iopub.execute_input": "2025-04-06T14:39:47.909417Z",
     "iopub.status.busy": "2025-04-06T14:39:47.909173Z",
     "iopub.status.idle": "2025-04-06T14:39:48.938223Z",
     "shell.execute_reply": "2025-04-06T14:39:48.937379Z"
    },
    "papermill": {
     "duration": 1.039177,
     "end_time": "2025-04-06T14:39:48.939559",
     "exception": false,
     "start_time": "2025-04-06T14:39:47.900382",
     "status": "completed"
    },
    "tags": []
   },
   "outputs": [
    {
     "data": {
      "text/plain": [
       "array([[<Axes: title={'center': 'Episode_Length_minutes'}>,\n",
       "        <Axes: title={'center': 'Host_Popularity_percentage'}>],\n",
       "       [<Axes: title={'center': 'Guest_Popularity_percentage'}>,\n",
       "        <Axes: title={'center': 'Number_of_Ads'}>],\n",
       "       [<Axes: title={'center': 'Listening_Time_minutes'}>, <Axes: >]],\n",
       "      dtype=object)"
      ]
     },
     "execution_count": 21,
     "metadata": {},
     "output_type": "execute_result"
    },
    {
     "data": {
      "image/png": "[encoded data removed]",
      "text/plain": [
       "<Figure size 1200x800 with 6 Axes>"
      ]
     },
     "metadata": {},
     "output_type": "display_data"
    }
   ],
   "source": [
    "num_cols = ['Episode_Length_minutes', 'Host_Popularity_percentage', 'Guest_Popularity_percentage', 'Number_of_Ads', 'Listening_Time_minutes']\n",
    "train[num_cols].hist(bins=20, figsize=(12, 8))\n"
   ]
  },
  {
   "cell_type": "code",
   "execution_count": 22,
   "id": "9db25503",
   "metadata": {
    "execution": {
     "iopub.execute_input": "2025-04-06T14:39:48.961261Z",
     "iopub.status.busy": "2025-04-06T14:39:48.961016Z",
     "iopub.status.idle": "2025-04-06T14:39:49.096187Z",
     "shell.execute_reply": "2025-04-06T14:39:49.095452Z"
    },
    "papermill": {
     "duration": 0.147645,
     "end_time": "2025-04-06T14:39:49.097353",
     "exception": false,
     "start_time": "2025-04-06T14:39:48.949708",
     "status": "completed"
    },
    "tags": []
   },
   "outputs": [
    {
     "data": {
      "text/plain": [
       "<Axes: xlabel='Listening_Time_minutes'>"
      ]
     },
     "execution_count": 22,
     "metadata": {},
     "output_type": "execute_result"
    },
    {
     "data": {
      "image/png": "[encoded data removed]",
      "text/plain": [
       "<Figure size 640x480 with 1 Axes>"
      ]
     },
     "metadata": {},
     "output_type": "display_data"
    }
   ],
   "source": [
    "sns.boxplot(data=train, x='Listening_Time_minutes')"
   ]
  },
  {
   "cell_type": "markdown",
   "id": "f4242cb5",
   "metadata": {
    "papermill": {
     "duration": 0.009567,
     "end_time": "2025-04-06T14:39:49.117310",
     "exception": false,
     "start_time": "2025-04-06T14:39:49.107743",
     "status": "completed"
    },
    "tags": []
   },
   "source": [
    "# Bivariate Analysis"
   ]
  },
  {
   "cell_type": "code",
   "execution_count": 23,
   "id": "77f67225",
   "metadata": {
    "execution": {
     "iopub.execute_input": "2025-04-06T14:39:49.137414Z",
     "iopub.status.busy": "2025-04-06T14:39:49.137181Z",
     "iopub.status.idle": "2025-04-06T14:39:49.447382Z",
     "shell.execute_reply": "2025-04-06T14:39:49.446551Z"
    },
    "papermill": {
     "duration": 0.322221,
     "end_time": "2025-04-06T14:39:49.449124",
     "exception": false,
     "start_time": "2025-04-06T14:39:49.126903",
     "status": "completed"
    },
    "tags": []
   },
   "outputs": [
    {
     "data": {
      "image/png": "[encoded data removed]",
      "text/plain": [
       "<Figure size 640x480 with 2 Axes>"
      ]
     },
     "metadata": {},
     "output_type": "display_data"
    }
   ],
   "source": [
    "\n",
    "sns.heatmap(train[num_cols].corr(), annot=True, cmap='coolwarm')\n",
    "plt.xticks(rotation=45)\n",
    "plt.show()"
   ]
  },
  {
   "cell_type": "code",
   "execution_count": 24,
   "id": "81ff769a",
   "metadata": {
    "execution": {
     "iopub.execute_input": "2025-04-06T14:39:49.472388Z",
     "iopub.status.busy": "2025-04-06T14:39:49.472153Z",
     "iopub.status.idle": "2025-04-06T14:39:54.822670Z",
     "shell.execute_reply": "2025-04-06T14:39:54.821820Z"
    },
    "papermill": {
     "duration": 5.36341,
     "end_time": "2025-04-06T14:39:54.824145",
     "exception": false,
     "start_time": "2025-04-06T14:39:49.460735",
     "status": "completed"
    },
    "tags": []
   },
   "outputs": [
    {
     "data": {
      "text/plain": [
       "<Axes: xlabel='Publication_Day', ylabel='Listening_Time_minutes'>"
      ]
     },
     "execution_count": 24,
     "metadata": {},
     "output_type": "execute_result"
    },
    {
     "data": {
      "image/png": "[encoded data removed]",
      "text/plain": [
       "<Figure size 640x480 with 1 Axes>"
      ]
     },
     "metadata": {},
     "output_type": "display_data"
    }
   ],
   "source": [
    "\n",
    "sns.barplot(data=train, x='Publication_Day', y='Listening_Time_minutes')"
   ]
  },
  {
   "cell_type": "code",
   "execution_count": 25,
   "id": "fb0c6373",
   "metadata": {
    "execution": {
     "iopub.execute_input": "2025-04-06T14:39:54.848511Z",
     "iopub.status.busy": "2025-04-06T14:39:54.848260Z",
     "iopub.status.idle": "2025-04-06T14:39:55.392218Z",
     "shell.execute_reply": "2025-04-06T14:39:55.391377Z"
    },
    "papermill": {
     "duration": 0.557436,
     "end_time": "2025-04-06T14:39:55.393541",
     "exception": false,
     "start_time": "2025-04-06T14:39:54.836105",
     "status": "completed"
    },
    "tags": []
   },
   "outputs": [
    {
     "data": {
      "image/png": "[encoded data removed]",
      "text/plain": [
       "<Figure size 640x480 with 1 Axes>"
      ]
     },
     "metadata": {},
     "output_type": "display_data"
    }
   ],
   "source": [
    "sns.boxplot(data=train, x='Genre', y='Listening_Time_minutes')\n",
    "plt.xticks(rotation=45)\n",
    "plt.show()"
   ]
  },
  {
   "cell_type": "code",
   "execution_count": 26,
   "id": "1b947669",
   "metadata": {
    "execution": {
     "iopub.execute_input": "2025-04-06T14:39:55.418575Z",
     "iopub.status.busy": "2025-04-06T14:39:55.418355Z",
     "iopub.status.idle": "2025-04-06T14:39:55.422761Z",
     "shell.execute_reply": "2025-04-06T14:39:55.421975Z"
    },
    "papermill": {
     "duration": 0.018023,
     "end_time": "2025-04-06T14:39:55.423922",
     "exception": false,
     "start_time": "2025-04-06T14:39:55.405899",
     "status": "completed"
    },
    "tags": []
   },
   "outputs": [
    {
     "data": {
      "text/plain": [
       "Index(['Podcast_Name', 'Episode_Title', 'Episode_Length_minutes', 'Genre',\n",
       "       'Host_Popularity_percentage', 'Publication_Day', 'Publication_Time',\n",
       "       'Guest_Popularity_percentage', 'Number_of_Ads', 'Episode_Sentiment',\n",
       "       'Listening_Time_minutes'],\n",
       "      dtype='object')"
      ]
     },
     "execution_count": 26,
     "metadata": {},
     "output_type": "execute_result"
    }
   ],
   "source": [
    "train.columns"
   ]
  },
  {
   "cell_type": "code",
   "execution_count": 27,
   "id": "8279c834",
   "metadata": {
    "execution": {
     "iopub.execute_input": "2025-04-06T14:39:55.448329Z",
     "iopub.status.busy": "2025-04-06T14:39:55.448119Z",
     "iopub.status.idle": "2025-04-06T14:39:55.646527Z",
     "shell.execute_reply": "2025-04-06T14:39:55.645793Z"
    },
    "papermill": {
     "duration": 0.212006,
     "end_time": "2025-04-06T14:39:55.647805",
     "exception": false,
     "start_time": "2025-04-06T14:39:55.435799",
     "status": "completed"
    },
    "tags": []
   },
   "outputs": [
    {
     "name": "stdout",
     "output_type": "stream",
     "text": [
      "<class 'pandas.core.frame.DataFrame'>\n",
      "Index: 750000 entries, 0 to 749999\n",
      "Data columns (total 11 columns):\n",
      " #   Column                       Non-Null Count   Dtype  \n",
      "---  ------                       --------------   -----  \n",
      " 0   Podcast_Name                 750000 non-null  object \n",
      " 1   Episode_Title                750000 non-null  object \n",
      " 2   Episode_Length_minutes       750000 non-null  float64\n",
      " 3   Genre                        750000 non-null  object \n",
      " 4   Host_Popularity_percentage   750000 non-null  float64\n",
      " 5   Publication_Day              750000 non-null  object \n",
      " 6   Publication_Time             750000 non-null  object \n",
      " 7   Guest_Popularity_percentage  750000 non-null  float64\n",
      " 8   Number_of_Ads                750000 non-null  float64\n",
      " 9   Episode_Sentiment            750000 non-null  object \n",
      " 10  Listening_Time_minutes       750000 non-null  float64\n",
      "dtypes: float64(5), object(6)\n",
      "memory usage: 68.7+ MB\n"
     ]
    }
   ],
   "source": [
    "train.info()"
   ]
  },
  {
   "cell_type": "raw",
   "id": "c4fbff70",
   "metadata": {
    "papermill": {
     "duration": 0.011693,
     "end_time": "2025-04-06T14:39:55.671815",
     "exception": false,
     "start_time": "2025-04-06T14:39:55.660122",
     "status": "completed"
    },
    "tags": []
   },
   "source": []
  },
  {
   "cell_type": "code",
   "execution_count": 28,
   "id": "5c7bfb17",
   "metadata": {
    "execution": {
     "iopub.execute_input": "2025-04-06T14:39:55.696643Z",
     "iopub.status.busy": "2025-04-06T14:39:55.696405Z",
     "iopub.status.idle": "2025-04-06T14:39:57.071462Z",
     "shell.execute_reply": "2025-04-06T14:39:57.070531Z"
    },
    "papermill": {
     "duration": 1.389279,
     "end_time": "2025-04-06T14:39:57.072920",
     "exception": false,
     "start_time": "2025-04-06T14:39:55.683641",
     "status": "completed"
    },
    "tags": []
   },
   "outputs": [],
   "source": [
    "from sklearn.model_selection import train_test_split\n",
    "from sklearn.neighbors import KNeighborsRegressor\n",
    "from sklearn.linear_model import LogisticRegression,Ridge,Lasso\n",
    "from sklearn.tree import DecisionTreeRegressor\n",
    "from sklearn.ensemble import RandomForestRegressor,GradientBoostingRegressor,AdaBoostRegressor\n",
    "from sklearn.svm import SVR\n",
    "from xgboost import XGBRegressor"
   ]
  },
  {
   "cell_type": "code",
   "execution_count": 29,
   "id": "bd4391ba",
   "metadata": {
    "execution": {
     "iopub.execute_input": "2025-04-06T14:39:57.098878Z",
     "iopub.status.busy": "2025-04-06T14:39:57.098640Z",
     "iopub.status.idle": "2025-04-06T14:39:57.121045Z",
     "shell.execute_reply": "2025-04-06T14:39:57.120469Z"
    },
    "papermill": {
     "duration": 0.036536,
     "end_time": "2025-04-06T14:39:57.122141",
     "exception": false,
     "start_time": "2025-04-06T14:39:57.085605",
     "status": "completed"
    },
    "tags": []
   },
   "outputs": [],
   "source": [
    "from sklearn.compose import ColumnTransformer\n",
    "from sklearn.pipeline import  Pipeline\n",
    "from sklearn.preprocessing import OneHotEncoder\n",
    "from sklearn.metrics import r2_score,mean_absolute_error,accuracy_score"
   ]
  },
  {
   "cell_type": "code",
   "execution_count": 30,
   "id": "a5d41c0e",
   "metadata": {
    "execution": {
     "iopub.execute_input": "2025-04-06T14:39:57.146548Z",
     "iopub.status.busy": "2025-04-06T14:39:57.146345Z",
     "iopub.status.idle": "2025-04-06T14:39:57.184436Z",
     "shell.execute_reply": "2025-04-06T14:39:57.183764Z"
    },
    "papermill": {
     "duration": 0.051805,
     "end_time": "2025-04-06T14:39:57.185869",
     "exception": false,
     "start_time": "2025-04-06T14:39:57.134064",
     "status": "completed"
    },
    "tags": []
   },
   "outputs": [],
   "source": [
    "train = train.drop(['Episode_Title', 'Podcast_Name'], axis=1)\n",
    "test = test.drop(['Episode_Title', 'Podcast_Name'], axis=1)"
   ]
  },
  {
   "cell_type": "code",
   "execution_count": 31,
   "id": "231b2f5b",
   "metadata": {
    "execution": {
     "iopub.execute_input": "2025-04-06T14:39:57.211163Z",
     "iopub.status.busy": "2025-04-06T14:39:57.210885Z",
     "iopub.status.idle": "2025-04-06T14:39:57.514487Z",
     "shell.execute_reply": "2025-04-06T14:39:57.513813Z"
    },
    "papermill": {
     "duration": 0.317798,
     "end_time": "2025-04-06T14:39:57.516032",
     "exception": false,
     "start_time": "2025-04-06T14:39:57.198234",
     "status": "completed"
    },
    "tags": []
   },
   "outputs": [],
   "source": [
    "train = pd.get_dummies(train, columns=['Genre', 'Episode_Sentiment', 'Publication_Day'], drop_first=True)\n",
    "\n",
    "\n",
    "test = pd.get_dummies(test, columns=['Genre', 'Episode_Sentiment', 'Publication_Day'], drop_first=True)\n"
   ]
  },
  {
   "cell_type": "code",
   "execution_count": 32,
   "id": "f4635c29",
   "metadata": {
    "execution": {
     "iopub.execute_input": "2025-04-06T14:39:57.542934Z",
     "iopub.status.busy": "2025-04-06T14:39:57.542665Z",
     "iopub.status.idle": "2025-04-06T14:39:57.626018Z",
     "shell.execute_reply": "2025-04-06T14:39:57.625113Z"
    },
    "papermill": {
     "duration": 0.098259,
     "end_time": "2025-04-06T14:39:57.627683",
     "exception": false,
     "start_time": "2025-04-06T14:39:57.529424",
     "status": "completed"
    },
    "tags": []
   },
   "outputs": [],
   "source": [
    "bool_cols = train.select_dtypes(include='bool').columns\n",
    "train[bool_cols] = train[bool_cols].astype(int)\n",
    "\n",
    "bool_cols = test.select_dtypes(include='bool').columns\n",
    "test[bool_cols] = test[bool_cols].astype(int)"
   ]
  },
  {
   "cell_type": "code",
   "execution_count": 33,
   "id": "cd72c9d6",
   "metadata": {
    "execution": {
     "iopub.execute_input": "2025-04-06T14:39:57.653977Z",
     "iopub.status.busy": "2025-04-06T14:39:57.653704Z",
     "iopub.status.idle": "2025-04-06T14:39:57.671169Z",
     "shell.execute_reply": "2025-04-06T14:39:57.670372Z"
    },
    "papermill": {
     "duration": 0.031647,
     "end_time": "2025-04-06T14:39:57.672399",
     "exception": false,
     "start_time": "2025-04-06T14:39:57.640752",
     "status": "completed"
    },
    "tags": []
   },
   "outputs": [
    {
     "data": {
      "text/html": [
       "<div>\n",
       "<style scoped>\n",
       "    .dataframe tbody tr th:only-of-type {\n",
       "        vertical-align: middle;\n",
       "    }\n",
       "\n",
       "    .dataframe tbody tr th {\n",
       "        vertical-align: top;\n",
       "    }\n",
       "\n",
       "    .dataframe thead th {\n",
       "        text-align: right;\n",
       "    }\n",
       "</style>\n",
       "<table border=\"1\" class=\"dataframe\">\n",
       "  <thead>\n",
       "    <tr style=\"text-align: right;\">\n",
       "      <th></th>\n",
       "      <th>Episode_Length_minutes</th>\n",
       "      <th>Host_Popularity_percentage</th>\n",
       "      <th>Publication_Time</th>\n",
       "      <th>Guest_Popularity_percentage</th>\n",
       "      <th>Number_of_Ads</th>\n",
       "      <th>Listening_Time_minutes</th>\n",
       "      <th>Genre_Comedy</th>\n",
       "      <th>Genre_Education</th>\n",
       "      <th>Genre_Health</th>\n",
       "      <th>Genre_Lifestyle</th>\n",
       "      <th>...</th>\n",
       "      <th>Genre_Technology</th>\n",
       "      <th>Genre_True Crime</th>\n",
       "      <th>Episode_Sentiment_Neutral</th>\n",
       "      <th>Episode_Sentiment_Positive</th>\n",
       "      <th>Publication_Day_Monday</th>\n",
       "      <th>Publication_Day_Saturday</th>\n",
       "      <th>Publication_Day_Sunday</th>\n",
       "      <th>Publication_Day_Thursday</th>\n",
       "      <th>Publication_Day_Tuesday</th>\n",
       "      <th>Publication_Day_Wednesday</th>\n",
       "    </tr>\n",
       "    <tr>\n",
       "      <th>id</th>\n",
       "      <th></th>\n",
       "      <th></th>\n",
       "      <th></th>\n",
       "      <th></th>\n",
       "      <th></th>\n",
       "      <th></th>\n",
       "      <th></th>\n",
       "      <th></th>\n",
       "      <th></th>\n",
       "      <th></th>\n",
       "      <th></th>\n",
       "      <th></th>\n",
       "      <th></th>\n",
       "      <th></th>\n",
       "      <th></th>\n",
       "      <th></th>\n",
       "      <th></th>\n",
       "      <th></th>\n",
       "      <th></th>\n",
       "      <th></th>\n",
       "      <th></th>\n",
       "    </tr>\n",
       "  </thead>\n",
       "  <tbody>\n",
       "    <tr>\n",
       "      <th>0</th>\n",
       "      <td>67.78</td>\n",
       "      <td>74.81</td>\n",
       "      <td>Night</td>\n",
       "      <td>0.00</td>\n",
       "      <td>0.0</td>\n",
       "      <td>31.41998</td>\n",
       "      <td>0</td>\n",
       "      <td>0</td>\n",
       "      <td>0</td>\n",
       "      <td>0</td>\n",
       "      <td>...</td>\n",
       "      <td>0</td>\n",
       "      <td>1</td>\n",
       "      <td>0</td>\n",
       "      <td>1</td>\n",
       "      <td>0</td>\n",
       "      <td>0</td>\n",
       "      <td>0</td>\n",
       "      <td>1</td>\n",
       "      <td>0</td>\n",
       "      <td>0</td>\n",
       "    </tr>\n",
       "    <tr>\n",
       "      <th>1</th>\n",
       "      <td>119.80</td>\n",
       "      <td>66.95</td>\n",
       "      <td>Afternoon</td>\n",
       "      <td>75.95</td>\n",
       "      <td>2.0</td>\n",
       "      <td>88.01241</td>\n",
       "      <td>1</td>\n",
       "      <td>0</td>\n",
       "      <td>0</td>\n",
       "      <td>0</td>\n",
       "      <td>...</td>\n",
       "      <td>0</td>\n",
       "      <td>0</td>\n",
       "      <td>0</td>\n",
       "      <td>0</td>\n",
       "      <td>0</td>\n",
       "      <td>1</td>\n",
       "      <td>0</td>\n",
       "      <td>0</td>\n",
       "      <td>0</td>\n",
       "      <td>0</td>\n",
       "    </tr>\n",
       "    <tr>\n",
       "      <th>2</th>\n",
       "      <td>73.90</td>\n",
       "      <td>69.97</td>\n",
       "      <td>Evening</td>\n",
       "      <td>8.97</td>\n",
       "      <td>0.0</td>\n",
       "      <td>44.92531</td>\n",
       "      <td>0</td>\n",
       "      <td>1</td>\n",
       "      <td>0</td>\n",
       "      <td>0</td>\n",
       "      <td>...</td>\n",
       "      <td>0</td>\n",
       "      <td>0</td>\n",
       "      <td>0</td>\n",
       "      <td>0</td>\n",
       "      <td>0</td>\n",
       "      <td>0</td>\n",
       "      <td>0</td>\n",
       "      <td>0</td>\n",
       "      <td>1</td>\n",
       "      <td>0</td>\n",
       "    </tr>\n",
       "    <tr>\n",
       "      <th>3</th>\n",
       "      <td>67.17</td>\n",
       "      <td>57.22</td>\n",
       "      <td>Morning</td>\n",
       "      <td>78.70</td>\n",
       "      <td>2.0</td>\n",
       "      <td>46.27824</td>\n",
       "      <td>0</td>\n",
       "      <td>0</td>\n",
       "      <td>0</td>\n",
       "      <td>0</td>\n",
       "      <td>...</td>\n",
       "      <td>1</td>\n",
       "      <td>0</td>\n",
       "      <td>0</td>\n",
       "      <td>1</td>\n",
       "      <td>1</td>\n",
       "      <td>0</td>\n",
       "      <td>0</td>\n",
       "      <td>0</td>\n",
       "      <td>0</td>\n",
       "      <td>0</td>\n",
       "    </tr>\n",
       "    <tr>\n",
       "      <th>4</th>\n",
       "      <td>110.51</td>\n",
       "      <td>80.07</td>\n",
       "      <td>Afternoon</td>\n",
       "      <td>58.68</td>\n",
       "      <td>3.0</td>\n",
       "      <td>75.61031</td>\n",
       "      <td>0</td>\n",
       "      <td>0</td>\n",
       "      <td>1</td>\n",
       "      <td>0</td>\n",
       "      <td>...</td>\n",
       "      <td>0</td>\n",
       "      <td>0</td>\n",
       "      <td>1</td>\n",
       "      <td>0</td>\n",
       "      <td>1</td>\n",
       "      <td>0</td>\n",
       "      <td>0</td>\n",
       "      <td>0</td>\n",
       "      <td>0</td>\n",
       "      <td>0</td>\n",
       "    </tr>\n",
       "  </tbody>\n",
       "</table>\n",
       "<p>5 rows × 23 columns</p>\n",
       "</div>"
      ],
      "text/plain": [
       "    Episode_Length_minutes  Host_Popularity_percentage Publication_Time  \\\n",
       "id                                                                        \n",
       "0                    67.78                       74.81            Night   \n",
       "1                   119.80                       66.95        Afternoon   \n",
       "2                    73.90                       69.97          Evening   \n",
       "3                    67.17                       57.22          Morning   \n",
       "4                   110.51                       80.07        Afternoon   \n",
       "\n",
       "    Guest_Popularity_percentage  Number_of_Ads  Listening_Time_minutes  \\\n",
       "id                                                                       \n",
       "0                          0.00            0.0                31.41998   \n",
       "1                         75.95            2.0                88.01241   \n",
       "2                          8.97            0.0                44.92531   \n",
       "3                         78.70            2.0                46.27824   \n",
       "4                         58.68            3.0                75.61031   \n",
       "\n",
       "    Genre_Comedy  Genre_Education  Genre_Health  Genre_Lifestyle  ...  \\\n",
       "id                                                                ...   \n",
       "0              0                0             0                0  ...   \n",
       "1              1                0             0                0  ...   \n",
       "2              0                1             0                0  ...   \n",
       "3              0                0             0                0  ...   \n",
       "4              0                0             1                0  ...   \n",
       "\n",
       "    Genre_Technology  Genre_True Crime  Episode_Sentiment_Neutral  \\\n",
       "id                                                                  \n",
       "0                  0                 1                          0   \n",
       "1                  0                 0                          0   \n",
       "2                  0                 0                          0   \n",
       "3                  1                 0                          0   \n",
       "4                  0                 0                          1   \n",
       "\n",
       "    Episode_Sentiment_Positive  Publication_Day_Monday  \\\n",
       "id                                                       \n",
       "0                            1                       0   \n",
       "1                            0                       0   \n",
       "2                            0                       0   \n",
       "3                            1                       1   \n",
       "4                            0                       1   \n",
       "\n",
       "    Publication_Day_Saturday  Publication_Day_Sunday  \\\n",
       "id                                                     \n",
       "0                          0                       0   \n",
       "1                          1                       0   \n",
       "2                          0                       0   \n",
       "3                          0                       0   \n",
       "4                          0                       0   \n",
       "\n",
       "    Publication_Day_Thursday  Publication_Day_Tuesday  \\\n",
       "id                                                      \n",
       "0                          1                        0   \n",
       "1                          0                        0   \n",
       "2                          0                        1   \n",
       "3                          0                        0   \n",
       "4                          0                        0   \n",
       "\n",
       "    Publication_Day_Wednesday  \n",
       "id                             \n",
       "0                           0  \n",
       "1                           0  \n",
       "2                           0  \n",
       "3                           0  \n",
       "4                           0  \n",
       "\n",
       "[5 rows x 23 columns]"
      ]
     },
     "execution_count": 33,
     "metadata": {},
     "output_type": "execute_result"
    }
   ],
   "source": [
    "train.head(5)"
   ]
  },
  {
   "cell_type": "code",
   "execution_count": 34,
   "id": "675d2cd7",
   "metadata": {
    "execution": {
     "iopub.execute_input": "2025-04-06T14:39:57.699544Z",
     "iopub.status.busy": "2025-04-06T14:39:57.699342Z",
     "iopub.status.idle": "2025-04-06T14:39:57.737801Z",
     "shell.execute_reply": "2025-04-06T14:39:57.737023Z"
    },
    "papermill": {
     "duration": 0.054182,
     "end_time": "2025-04-06T14:39:57.738926",
     "exception": false,
     "start_time": "2025-04-06T14:39:57.684744",
     "status": "completed"
    },
    "tags": []
   },
   "outputs": [
    {
     "data": {
      "text/plain": [
       "array(['Night', 'Afternoon', 'Evening', 'Morning'], dtype=object)"
      ]
     },
     "execution_count": 34,
     "metadata": {},
     "output_type": "execute_result"
    }
   ],
   "source": [
    "train['Publication_Time'].unique()"
   ]
  },
  {
   "cell_type": "code",
   "execution_count": 35,
   "id": "43ed78d2",
   "metadata": {
    "execution": {
     "iopub.execute_input": "2025-04-06T14:39:57.765912Z",
     "iopub.status.busy": "2025-04-06T14:39:57.765650Z",
     "iopub.status.idle": "2025-04-06T14:39:58.000626Z",
     "shell.execute_reply": "2025-04-06T14:39:57.999598Z"
    },
    "papermill": {
     "duration": 0.250931,
     "end_time": "2025-04-06T14:39:58.002349",
     "exception": false,
     "start_time": "2025-04-06T14:39:57.751418",
     "status": "completed"
    },
    "tags": []
   },
   "outputs": [],
   "source": [
    "from sklearn.preprocessing import OrdinalEncoder\n",
    "\n",
    "time_order = [['Morning', 'Evening', 'Afternoon', 'Night']]\n",
    "encoder = OrdinalEncoder(categories=time_order)\n",
    "train['Publication_Time_Encoded'] = encoder.fit_transform(train[['Publication_Time']]).astype(int)\n",
    "train = train.drop('Publication_Time', axis=1)\n"
   ]
  },
  {
   "cell_type": "code",
   "execution_count": 36,
   "id": "f6524192",
   "metadata": {
    "execution": {
     "iopub.execute_input": "2025-04-06T14:39:58.030480Z",
     "iopub.status.busy": "2025-04-06T14:39:58.030224Z",
     "iopub.status.idle": "2025-04-06T14:39:58.121387Z",
     "shell.execute_reply": "2025-04-06T14:39:58.120686Z"
    },
    "papermill": {
     "duration": 0.105817,
     "end_time": "2025-04-06T14:39:58.122848",
     "exception": false,
     "start_time": "2025-04-06T14:39:58.017031",
     "status": "completed"
    },
    "tags": []
   },
   "outputs": [],
   "source": [
    "from sklearn.preprocessing import OrdinalEncoder\n",
    "\n",
    "time_order = [['Morning', 'Evening', 'Afternoon', 'Night']]\n",
    "encoder = OrdinalEncoder(categories=time_order)\n",
    "test['Publication_Time_Encoded'] = encoder.fit_transform(test[['Publication_Time']]).astype(int)\n",
    "test = test.drop('Publication_Time', axis=1)"
   ]
  },
  {
   "cell_type": "code",
   "execution_count": 37,
   "id": "0ea34dc7",
   "metadata": {
    "execution": {
     "iopub.execute_input": "2025-04-06T14:39:58.150335Z",
     "iopub.status.busy": "2025-04-06T14:39:58.150098Z",
     "iopub.status.idle": "2025-04-06T14:39:58.322542Z",
     "shell.execute_reply": "2025-04-06T14:39:58.321569Z"
    },
    "papermill": {
     "duration": 0.187572,
     "end_time": "2025-04-06T14:39:58.324276",
     "exception": false,
     "start_time": "2025-04-06T14:39:58.136704",
     "status": "completed"
    },
    "tags": []
   },
   "outputs": [],
   "source": [
    "from sklearn.preprocessing import StandardScaler\n",
    "\n",
    "scaler = StandardScaler()\n",
    "num_cols = ['Episode_Length_minutes', 'Host_Popularity_percentage',\n",
    "            'Guest_Popularity_percentage', 'Number_of_Ads', 'Publication_Time_Encoded']\n",
    "\n",
    "train[num_cols] = scaler.fit_transform(train[num_cols])\n",
    "test[num_cols] = scaler.fit_transform(test[num_cols])"
   ]
  },
  {
   "cell_type": "code",
   "execution_count": null,
   "id": "e6749b1e",
   "metadata": {
    "papermill": {
     "duration": 0.012427,
     "end_time": "2025-04-06T14:39:58.351809",
     "exception": false,
     "start_time": "2025-04-06T14:39:58.339382",
     "status": "completed"
    },
    "tags": []
   },
   "outputs": [],
   "source": []
  },
  {
   "cell_type": "code",
   "execution_count": 38,
   "id": "6b8e78c2",
   "metadata": {
    "execution": {
     "iopub.execute_input": "2025-04-06T14:39:58.377718Z",
     "iopub.status.busy": "2025-04-06T14:39:58.377448Z",
     "iopub.status.idle": "2025-04-06T14:39:58.456543Z",
     "shell.execute_reply": "2025-04-06T14:39:58.455571Z"
    },
    "papermill": {
     "duration": 0.093742,
     "end_time": "2025-04-06T14:39:58.458146",
     "exception": false,
     "start_time": "2025-04-06T14:39:58.364404",
     "status": "completed"
    },
    "tags": []
   },
   "outputs": [],
   "source": [
    "X = train.drop(columns = ['Listening_Time_minutes'])\n",
    "y = train['Listening_Time_minutes']"
   ]
  },
  {
   "cell_type": "code",
   "execution_count": 39,
   "id": "7f123213",
   "metadata": {
    "execution": {
     "iopub.execute_input": "2025-04-06T14:39:58.484816Z",
     "iopub.status.busy": "2025-04-06T14:39:58.484559Z",
     "iopub.status.idle": "2025-04-06T14:39:58.758975Z",
     "shell.execute_reply": "2025-04-06T14:39:58.757861Z"
    },
    "papermill": {
     "duration": 0.289515,
     "end_time": "2025-04-06T14:39:58.760745",
     "exception": false,
     "start_time": "2025-04-06T14:39:58.471230",
     "status": "completed"
    },
    "tags": []
   },
   "outputs": [],
   "source": [
    "X_train, X_test, y_train, y_test = train_test_split(X, y, test_size=0.2, random_state=42)"
   ]
  },
  {
   "cell_type": "code",
   "execution_count": 40,
   "id": "9daa9316",
   "metadata": {
    "execution": {
     "iopub.execute_input": "2025-04-06T14:39:58.787852Z",
     "iopub.status.busy": "2025-04-06T14:39:58.787567Z",
     "iopub.status.idle": "2025-04-06T14:46:44.215345Z",
     "shell.execute_reply": "2025-04-06T14:46:44.214434Z"
    },
    "papermill": {
     "duration": 405.455556,
     "end_time": "2025-04-06T14:46:44.229585",
     "exception": false,
     "start_time": "2025-04-06T14:39:58.774029",
     "status": "completed"
    },
    "tags": []
   },
   "outputs": [
    {
     "name": "stdout",
     "output_type": "stream",
     "text": [
      "XG Boost: RMSE = 13.1509\n",
      "Random Forest: RMSE = 13.0871\n"
     ]
    }
   ],
   "source": [
    "from sklearn.linear_model import LinearRegression, Ridge, Lasso\n",
    "from sklearn.tree import DecisionTreeRegressor\n",
    "from sklearn.ensemble import RandomForestRegressor, GradientBoostingRegressor\n",
    "from sklearn.svm import SVR\n",
    "from sklearn.model_selection import cross_val_score\n",
    "from sklearn.metrics import mean_squared_error\n",
    "import numpy as np\n",
    "\n",
    "# Define your model dictionary\n",
    "models = {\n",
    "    'XG Boost': XGBRegressor(),\n",
    "    \n",
    "    'Random Forest': RandomForestRegressor(),\n",
    "    \n",
    "}\n",
    "\n",
    "# Evaluate models using cross-validation (on training set)\n",
    "rmse_scores = {}\n",
    "\n",
    "for name, model in models.items():\n",
    "    # Negative MSE so we multiply by -1 and take sqrt\n",
    "    neg_mse = cross_val_score(model, X_train, y_train, \n",
    "                              scoring='neg_mean_squared_error', cv=2)\n",
    "    rmse = np.sqrt(-neg_mse.mean())\n",
    "    rmse_scores[name] = rmse\n",
    "\n",
    "# Display the RMSE scores\n",
    "for model_name, rmse in rmse_scores.items():\n",
    "    print(f\"{model_name}: RMSE = {rmse:.4f}\")\n"
   ]
  },
  {
   "cell_type": "code",
   "execution_count": null,
   "id": "2bba1117",
   "metadata": {
    "papermill": {
     "duration": 0.012612,
     "end_time": "2025-04-06T14:46:44.255042",
     "exception": false,
     "start_time": "2025-04-06T14:46:44.242430",
     "status": "completed"
    },
    "tags": []
   },
   "outputs": [],
   "source": []
  },
  {
   "cell_type": "code",
   "execution_count": null,
   "id": "3f0d2c13",
   "metadata": {
    "papermill": {
     "duration": 0.012467,
     "end_time": "2025-04-06T14:46:44.280079",
     "exception": false,
     "start_time": "2025-04-06T14:46:44.267612",
     "status": "completed"
    },
    "tags": []
   },
   "outputs": [],
   "source": []
  }
 ],
 "metadata": {
  "kaggle": {
   "accelerator": "nvidiaTeslaT4",
   "dataSources": [
    {
     "databundleVersionId": 11351736,
     "sourceId": 91715,
     "sourceType": "competition"
    }
   ],
   "dockerImageVersionId": 30919,
   "isGpuEnabled": true,
   "isInternetEnabled": true,
   "language": "python",
   "sourceType": "notebook"
  },
  "kernelspec": {
   "display_name": "Python 3",
   "language": "python",
   "name": "python3"
  },
  "language_info": {
   "codemirror_mode": {
    "name": "ipython",
    "version": 3
   },
   "file_extension": ".py",
   "mimetype": "text/x-python",
   "name": "python",
   "nbconvert_exporter": "python",
   "pygments_lexer": "ipython3",
   "version": "3.10.12"
  },
  "papermill": {
   "default_parameters": {},
   "duration": 430.420508,
   "end_time": "2025-04-06T14:46:45.111339",
   "environment_variables": {},
   "exception": null,
   "input_path": "__notebook__.ipynb",
   "output_path": "__notebook__.ipynb",
   "parameters": {},
   "start_time": "2025-04-06T14:39:34.690831",
   "version": "2.6.0"
  }
 },
 "nbformat": 4,
 "nbformat_minor": 5
}
